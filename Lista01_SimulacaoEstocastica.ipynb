{
  "nbformat": 4,
  "nbformat_minor": 0,
  "metadata": {
    "colab": {
      "provenance": [],
      "collapsed_sections": [],
      "authorship_tag": "ABX9TyNURfvuhdt9cMXl9McCcbY9",
      "include_colab_link": true
    },
    "kernelspec": {
      "name": "python3",
      "display_name": "Python 3"
    },
    "language_info": {
      "name": "python"
    }
  },
  "cells": [
    {
      "cell_type": "markdown",
      "metadata": {
        "id": "view-in-github",
        "colab_type": "text"
      },
      "source": [
        "<a href=\"https://colab.research.google.com/github/Joab-S/SimulacaoEstocasticaUFC/blob/main/Lista01_SimulacaoEstocastica.ipynb\" target=\"_parent\"><img src=\"https://colab.research.google.com/assets/colab-badge.svg\" alt=\"Open In Colab\"/></a>"
      ]
    },
    {
      "cell_type": "markdown",
      "source": [
        "1. Considerando os códigos do gerador congruente, do Xorshift e do Mersènne Twister disponibilizados no repositório, elabore uma comparação visual entre estes métodos.\n",
        "\n",
        "\n",
        "    a) Gere n = 1000 exemplos aleatórios de cada um deles.\n",
        "\n",
        "    b) Faça um scatter plot onde x representa os valores gerados e y o valor anterior.\n",
        "\n",
        "    c) Calcule as distâncias entre os valores gerados e repita o scatter plot onde x são as distâncias e y a distância anterior."
      ],
      "metadata": {
        "id": "eqCHX3_OANiz"
      }
    },
    {
      "cell_type": "code",
      "execution_count": null,
      "metadata": {
        "id": "n8kGNoqL_F7Y"
      },
      "outputs": [],
      "source": [
        "# XORSHIFT\n",
        "\n",
        "def xorshift128(x = 123456789, y = 362436069, z = 521288629, w = 88675123):\n",
        "    '''xorshift\n",
        "\n",
        "    https://ja.wikipedia.org/wiki/Xorshift\n",
        "    '''\n",
        "\n",
        "    def _random():\n",
        "        nonlocal x, y, z, w\n",
        "        t = x ^ ((x << 11) & 0xFFFFFFFF)  # 32bit\n",
        "        x, y, z = y, z, w\n",
        "        w = (w ^ (w >> 19)) ^ (t ^ (t >> 8))\n",
        "        return w\n",
        "\n",
        "    return _random"
      ]
    },
    {
      "cell_type": "code",
      "source": [
        "# MERSENNE TWISTER\n",
        "\n",
        "# coefficients for MT19937\n",
        "(w, n, m, r) = (32, 624, 397, 31)\n",
        "a = 0x9908B0DF\n",
        "(u, d) = (11, 0xFFFFFFFF)\n",
        "(s, b) = (7, 0x9D2C5680)\n",
        "(t, c) = (15, 0xEFC60000)\n",
        "l = 18\n",
        "f = 1812433253\n",
        "\n",
        "\n",
        "# make a arry to store the state of the generator\n",
        "MT = [0 for i in range(n)]\n",
        "index = n+1\n",
        "lower_mask = 0x7FFFFFFF #(1 << r) - 1 // That is, the binary number of r 1's\n",
        "upper_mask = 0x80000000 #lowest w bits of (not lower_mask)\n",
        "\n",
        "\n",
        "# initialize the generator from a seed\n",
        "def mt_seed(seed):\n",
        "    # global index\n",
        "    # index = n\n",
        "    MT[0] = seed\n",
        "    for i in range(1, n):\n",
        "        temp = f * (MT[i-1] ^ (MT[i-1] >> (w-2))) + i\n",
        "        MT[i] = temp & 0xffffffff\n",
        "\n",
        "\n",
        "# Extract a tempered value based on MT[index]\n",
        "# calling twist() every n numbers\n",
        "def extract_number():\n",
        "    global index\n",
        "    if index >= n:\n",
        "        twist()\n",
        "        index = 0\n",
        "\n",
        "    y = MT[index]\n",
        "    y = y ^ ((y >> u) & d)\n",
        "    y = y ^ ((y << s) & b)\n",
        "    y = y ^ ((y << t) & c)\n",
        "    y = y ^ (y >> l)\n",
        "\n",
        "    index += 1\n",
        "    return y & 0xffffffff\n",
        "\n",
        "\n",
        "# Generate the next n values from the series x_i\n",
        "def twist():\n",
        "    for i in range(0, n):\n",
        "        x = (MT[i] & upper_mask) + (MT[(i+1) % n] & lower_mask)\n",
        "        xA = x >> 1\n",
        "        if (x % 2) != 0:\n",
        "            xA = xA ^ a\n",
        "        MT[i] = MT[(i + m) % n] ^ xA"
      ],
      "metadata": {
        "id": "8T6ukhFBBTNW"
      },
      "execution_count": null,
      "outputs": []
    },
    {
      "cell_type": "code",
      "source": [
        "r = xorshift128()\n",
        "mt_seed(88675123)\n",
        "\n",
        "for i in range(1000):\n",
        "    print(extract_number())\n",
        "    print(r())"
      ],
      "metadata": {
        "id": "wFm-FDrDByxO"
      },
      "execution_count": null,
      "outputs": []
    },
    {
      "cell_type": "markdown",
      "source": [
        "2. Um interesse fundamental sobre os geradores de números aleatórios é estabelecer medidas de variabilidade das sequências geradas.\n",
        "\n",
        "    a) Elabore um método de geração de números aleatórios linear congruente para números de 8 bits (0 a 255).\n",
        "\n",
        "    b) Verifique o período, amplitude e variância do método proposto para a geração de 50, 100, 200 e 300 valores.\n",
        "\n",
        "    c) Verifique o período, amplitude e variância das distâncias entre os valores gerados pelo método.\n",
        "\n",
        "    d) Utilize o gerador acoplado na linguagem de programação para fazer os mesmos testes.\n",
        "\n",
        "  Como eles se comparam com o gerador proposto?"
      ],
      "metadata": {
        "id": "iQ0i0j_oHIdR"
      }
    },
    {
      "cell_type": "code",
      "source": [
        "# item a)\n",
        "\n",
        "def lcg(r = 88675123, a = 1140671485, c = 128201163, m = 2**24):\n",
        "    def _random():\n",
        "        nonlocal a, c, m, r\n",
        "        r = (a*r + c) % m\n",
        "        return r\n",
        "\n",
        "    return _random"
      ],
      "metadata": {
        "id": "JSCP6xbYqs61"
      },
      "execution_count": null,
      "outputs": []
    }
  ]
}