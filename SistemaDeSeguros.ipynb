{
  "nbformat": 4,
  "nbformat_minor": 0,
  "metadata": {
    "colab": {
      "provenance": [],
      "collapsed_sections": [],
      "authorship_tag": "ABX9TyOZCwE86UDLgoHHfDDjWDm2",
      "include_colab_link": true
    },
    "kernelspec": {
      "name": "python3",
      "display_name": "Python 3"
    },
    "language_info": {
      "name": "python"
    }
  },
  "cells": [
    {
      "cell_type": "markdown",
      "metadata": {
        "id": "view-in-github",
        "colab_type": "text"
      },
      "source": [
        "<a href=\"https://colab.research.google.com/github/Joab-S/SimulacaoEstocasticaUFC/blob/main/SistemaDeSeguros.ipynb\" target=\"_parent\"><img src=\"https://colab.research.google.com/assets/colab-badge.svg\" alt=\"Open In Colab\"/></a>"
      ]
    },
    {
      "cell_type": "code",
      "source": [
        "pip install simpy"
      ],
      "metadata": {
        "colab": {
          "base_uri": "https://localhost:8080/"
        },
        "id": "CdGb_hcQYzOx",
        "outputId": "593da5d6-9a8f-4253-8bd1-8cb54d89f466"
      },
      "execution_count": 4,
      "outputs": [
        {
          "output_type": "stream",
          "name": "stdout",
          "text": [
            "Looking in indexes: https://pypi.org/simple, https://us-python.pkg.dev/colab-wheels/public/simple/\n",
            "Requirement already satisfied: simpy in /usr/local/lib/python3.7/dist-packages (4.0.1)\n"
          ]
        }
      ]
    },
    {
      "cell_type": "code",
      "source": [
        "import simpy as sp\n",
        "import numpy as np"
      ],
      "metadata": {
        "id": "u53I1ZoqYpkI"
      },
      "execution_count": 5,
      "outputs": []
    },
    {
      "cell_type": "code",
      "source": [
        "# Variáveis de Sistema:\n",
        "N, C = 10, 1200\n",
        "client_number = N\n",
        "capital = C\n",
        "last_event_time = 0\n",
        "\n",
        "# Parâmetros do Sistema:\n",
        "arrival_fee = 1/4                   # Em média, chegam 4 pessoas por mês\n",
        "exit_fee = 12/client_number         # Em média, um cliente permanece no seguro por 12 meses\n",
        "occurrence_fee = 3/client_number    # Em média, um cliente aciona o seguro a cada 3 meses\n",
        "monthly_payment = 40\n",
        "occurrence_value = 100\n",
        "occurrence_variance = 40\n",
        "limit = 120                         # Limite de simulação para 120 meses"
      ],
      "metadata": {
        "id": "3MfvlbiyYzMo"
      },
      "execution_count": 12,
      "outputs": []
    },
    {
      "cell_type": "code",
      "source": [
        "def partialMonthlyPayment(env, n):\n",
        "  global capital, last_event_time\n",
        "\n",
        "  capital += n * (env.now() - last_event_time) * monthly_payment\n",
        "  print(\"Mensalidade paga, Capital =\", capital)"
      ],
      "metadata": {
        "id": "xgNI-dr5lDJU"
      },
      "execution_count": null,
      "outputs": []
    },
    {
      "cell_type": "code",
      "source": [
        "def arrivalSystem(env):\n",
        "  global client_number, last_event_time\n",
        "  \n",
        "  while True:\n",
        "    client_number += 1,\n",
        "    print(\"Um novo cliente chegou. n: \", client_number)\n",
        "    \n",
        "    yield env.timeout(np.random.exponential(arrival_fee))\n",
        "    \n",
        "    partialMonthlyPayment(env, client_number)\n",
        "\n",
        "    last_event_time = env.now()"
      ],
      "metadata": {
        "id": "G8RUal4Kfxd1"
      },
      "execution_count": 15,
      "outputs": []
    },
    {
      "cell_type": "code",
      "source": [
        "def exitSystem(env):\n",
        "  ..."
      ],
      "metadata": {
        "id": "jdp_JjXagdGM"
      },
      "execution_count": null,
      "outputs": []
    },
    {
      "cell_type": "code",
      "source": [
        "def occurrence(env):\n",
        "  ..."
      ],
      "metadata": {
        "id": "OAwE-mUBgfg8"
      },
      "execution_count": null,
      "outputs": []
    },
    {
      "cell_type": "code",
      "source": [
        "def initSystem(env):\n",
        "  env.process(arrivalSystem(env))\n",
        "  if (client_number > 0):\n",
        "    env.process(occurrence(env))\n",
        "    env.process(exitSystem(env))"
      ],
      "metadata": {
        "id": "bHZxmLgxl3SC"
      },
      "execution_count": null,
      "outputs": []
    },
    {
      "cell_type": "code",
      "execution_count": null,
      "metadata": {
        "id": "YaLY3CxEWJEZ"
      },
      "outputs": [],
      "source": [
        "def minCapitalSystem():\n",
        "  global client_number\n",
        "  env = sp.Environment()\n",
        "  initSystem(env)\n",
        "  env.run(until=limit)\n",
        "  print(\"Fim da execução!\")\n",
        "\n",
        "  min = 0\n",
        "  return min"
      ]
    }
  ]
}