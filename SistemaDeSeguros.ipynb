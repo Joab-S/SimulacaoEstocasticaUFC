{
  "nbformat": 4,
  "nbformat_minor": 0,
  "metadata": {
    "colab": {
      "provenance": [],
      "collapsed_sections": [],
      "authorship_tag": "ABX9TyONDBUXDCeTjgmyYy0TEXrz",
      "include_colab_link": true
    },
    "kernelspec": {
      "name": "python3",
      "display_name": "Python 3"
    },
    "language_info": {
      "name": "python"
    }
  },
  "cells": [
    {
      "cell_type": "markdown",
      "metadata": {
        "id": "view-in-github",
        "colab_type": "text"
      },
      "source": [
        "<a href=\"https://colab.research.google.com/github/Joab-S/SimulacaoEstocasticaUFC/blob/main/SistemaDeSeguros.ipynb\" target=\"_parent\"><img src=\"https://colab.research.google.com/assets/colab-badge.svg\" alt=\"Open In Colab\"/></a>"
      ]
    },
    {
      "cell_type": "code",
      "source": [
        "pip install simpy"
      ],
      "metadata": {
        "colab": {
          "base_uri": "https://localhost:8080/"
        },
        "id": "CdGb_hcQYzOx",
        "outputId": "d5ce4795-9675-4468-ef0d-82e168f695d1"
      },
      "execution_count": 2,
      "outputs": [
        {
          "output_type": "stream",
          "name": "stdout",
          "text": [
            "Looking in indexes: https://pypi.org/simple, https://us-python.pkg.dev/colab-wheels/public/simple/\n",
            "Collecting simpy\n",
            "  Downloading simpy-4.0.1-py2.py3-none-any.whl (29 kB)\n",
            "Installing collected packages: simpy\n",
            "Successfully installed simpy-4.0.1\n"
          ]
        }
      ]
    },
    {
      "cell_type": "code",
      "source": [
        "import simpy as sp\n",
        "import numpy as np\n",
        "import matplotlib.pyplot as mp"
      ],
      "metadata": {
        "id": "u53I1ZoqYpkI"
      },
      "execution_count": 28,
      "outputs": []
    },
    {
      "cell_type": "code",
      "source": [
        "# Variáveis de Sistema:\n",
        "N, C = 10, 1000\n",
        "client_number = N\n",
        "capital = C\n",
        "last_event_time = 0\n",
        "minCap = capital\n",
        "\n",
        "# Parâmetros do Sistema:\n",
        "arrival_fee = 1/4                   # Em média, chegam 4 pessoas por mês\n",
        "exit_fee = 12         # Em média, um cliente permanece no seguro por 12 meses\n",
        "occurrence_fee = 3    # Em média, um cliente aciona o seguro a cada 3 meses\n",
        "monthly_payment = 42\n",
        "occurrence_value = 100\n",
        "occurrence_variance = 40\n",
        "limit = 60                       # Limite de simulação para 12 meses"
      ],
      "metadata": {
        "id": "3MfvlbiyYzMo"
      },
      "execution_count": 102,
      "outputs": []
    },
    {
      "cell_type": "code",
      "source": [
        "def initVarSystem(N, C):\n",
        "  global client_number\n",
        "  global capital\n",
        "  global minCap\n",
        "  global last_event_time\n",
        "   \n",
        "  client_number = N\n",
        "  capital = C\n",
        "  minCap = capital\n",
        "  last_event_time = 0"
      ],
      "metadata": {
        "id": "3_XlHw3COY_Z"
      },
      "execution_count": 44,
      "outputs": []
    },
    {
      "cell_type": "code",
      "source": [
        "def partialMonthlyPayment(env, n):\n",
        "  global capital\n",
        "  global last_event_time\n",
        "\n",
        "  value = capital + (n * (env.now - last_event_time) * monthly_payment)\n",
        "  #print(\"Mensalidade paga, Capital =\", value)\n",
        "  last_event_time = env.now\n",
        "\n",
        "  return value"
      ],
      "metadata": {
        "id": "xgNI-dr5lDJU"
      },
      "execution_count": 80,
      "outputs": []
    },
    {
      "cell_type": "code",
      "source": [
        "def arrivalSystem(env):\n",
        "  global client_number\n",
        "  global last_event_time\n",
        "  global capital\n",
        "  \n",
        "  while True:\n",
        "    \n",
        "    yield env.timeout(np.random.exponential(arrival_fee))\n",
        "    #print(\"Um novo cliente chegou. n: \", client_number)\n",
        "    capital = partialMonthlyPayment(env, client_number)\n",
        "    client_number += 1\n",
        "    if(client_number == 1):\n",
        "      env.process(occurrence(env))\n",
        "      env.process(exitSystem(env))"
      ],
      "metadata": {
        "id": "G8RUal4Kfxd1"
      },
      "execution_count": 81,
      "outputs": []
    },
    {
      "cell_type": "code",
      "source": [
        "def exitSystem(env):\n",
        "  global client_number\n",
        "  global last_event_time\n",
        "  global capital\n",
        "\n",
        "  while (client_number > 0):\n",
        "    yield env.timeout(np.random.exponential(exit_fee/client_number))\n",
        "    #print(\"Um cliente deixou o sistema. n:\", client_number)\n",
        "    capital = partialMonthlyPayment(env, client_number)\n",
        "    client_number -= 1\n",
        "  "
      ],
      "metadata": {
        "id": "jdp_JjXagdGM"
      },
      "execution_count": 79,
      "outputs": []
    },
    {
      "cell_type": "code",
      "source": [
        "def occurrence(env):\n",
        "  global client_number\n",
        "  global minCap\n",
        "  global last_event_time\n",
        "  global capital\n",
        "  global minCap\n",
        "\n",
        "  while (client_number > 0):\n",
        "    yield env.timeout(np.random.exponential(occurrence_fee/client_number))\n",
        "\n",
        "    custo = np.random.normal(occurrence_value, occurrence_variance)\n",
        "    capital = capital - custo\n",
        "    #print(\"Uma ocorrência foi registrada. Custo:\", custo, \"- Capital: \", capital)\n",
        "    minCap = min(minCap, capital)\n",
        "\n",
        "    "
      ],
      "metadata": {
        "id": "OAwE-mUBgfg8"
      },
      "execution_count": 78,
      "outputs": []
    },
    {
      "cell_type": "code",
      "source": [
        "def initSystem(env):\n",
        "  global N\n",
        "  global C\n",
        "  global client_number\n",
        "  \n",
        "  initVarSystem(N, C)\n",
        "  env.process(arrivalSystem(env))\n",
        "  if (client_number > 0):\n",
        "    env.process(occurrence(env))\n",
        "    env.process(exitSystem(env))"
      ],
      "metadata": {
        "id": "bHZxmLgxl3SC"
      },
      "execution_count": 76,
      "outputs": []
    },
    {
      "cell_type": "code",
      "execution_count": 83,
      "metadata": {
        "id": "YaLY3CxEWJEZ"
      },
      "outputs": [],
      "source": [
        "def minCapitalSystem():\n",
        "  global minCap\n",
        "  env = sp.Environment()\n",
        "  initSystem(env)\n",
        "  env.run(until=limit)\n",
        "  #print(\"Fim da execução!\")\n",
        "\n",
        "  return minCap"
      ]
    },
    {
      "cell_type": "code",
      "source": [
        "min_values = []\n",
        "for i in range(100):\n",
        "  min_values.append(minCapitalSystem())\n",
        "\n",
        "\n",
        "mp.plot(min_values)\n"
      ],
      "metadata": {
        "colab": {
          "base_uri": "https://localhost:8080/",
          "height": 282
        },
        "id": "_UG3vXQ7QgY2",
        "outputId": "54fa0ed7-a426-49b6-94f7-ba325a0f9500"
      },
      "execution_count": 105,
      "outputs": [
        {
          "output_type": "execute_result",
          "data": {
            "text/plain": [
              "[<matplotlib.lines.Line2D at 0x7fe44de3a490>]"
            ]
          },
          "metadata": {},
          "execution_count": 105
        },
        {
          "output_type": "display_data",
          "data": {
            "text/plain": [
              "<Figure size 432x288 with 1 Axes>"
            ],
            "image/png": "[encoded data removed]"
          },
          "metadata": {
            "needs_background": "light"
          }
        }
      ]
    },
    {
      "cell_type": "code",
      "source": [
        "print(np.mean(min_values))\n",
        "print(np.std(min_values))\n",
        "\n",
        "from scipy.stats import norm\n",
        "\n",
        "prob = norm.cdf(-np.mean(min_values)/np.std(min_values))\n",
        "print(prob)"
      ],
      "metadata": {
        "colab": {
          "base_uri": "https://localhost:8080/"
        },
        "id": "Q1Uhed6c0RVw",
        "outputId": "58b844cf-ec8e-430c-c84b-4af499d9d335"
      },
      "execution_count": 106,
      "outputs": [
        {
          "output_type": "stream",
          "name": "stdout",
          "text": [
            "579.4539013961329\n",
            "356.7459704052896\n",
            "0.05215846341868452\n"
          ]
        }
      ]
    }
  ]
}