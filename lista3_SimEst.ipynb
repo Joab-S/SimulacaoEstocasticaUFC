{
  "nbformat": 4,
  "nbformat_minor": 0,
  "metadata": {
    "colab": {
      "provenance": [],
      "authorship_tag": "ABX9TyPhxhaci7tkMNZ61sHM6GNA",
      "include_colab_link": true
    },
    "kernelspec": {
      "name": "python3",
      "display_name": "Python 3"
    },
    "language_info": {
      "name": "python"
    }
  },
  "cells": [
    {
      "cell_type": "markdown",
      "metadata": {
        "id": "view-in-github",
        "colab_type": "text"
      },
      "source": [
        "<a href=\"https://colab.research.google.com/github/Joab-S/SimulacaoEstocasticaUFC/blob/main/lista3_SimEst.ipynb\" target=\"_parent\"><img src=\"https://colab.research.google.com/assets/colab-badge.svg\" alt=\"Open In Colab\"/></a>"
      ]
    },
    {
      "cell_type": "code",
      "source": [
        "%pip install simpy"
      ],
      "metadata": {
        "colab": {
          "base_uri": "https://localhost:8080/"
        },
        "id": "MejFHDIRAKwa",
        "outputId": "05fbdcc1-5a15-4f47-ec2c-426d17248804"
      },
      "execution_count": 7,
      "outputs": [
        {
          "output_type": "stream",
          "name": "stdout",
          "text": [
            "Looking in indexes: https://pypi.org/simple, https://us-python.pkg.dev/colab-wheels/public/simple/\n",
            "Requirement already satisfied: simpy in /usr/local/lib/python3.7/dist-packages (4.0.1)\n"
          ]
        }
      ]
    },
    {
      "cell_type": "code",
      "execution_count": 9,
      "metadata": {
        "id": "tGiSlkkP_aof"
      },
      "outputs": [],
      "source": [
        "import random as r\n",
        "import simpy as sp\n",
        "import numpy as np"
      ]
    },
    {
      "cell_type": "code",
      "source": [
        "N_CLIENTES = 0\n",
        "N_ATENDENTES = 1\n",
        "TAXA_CHEGADA = 2\n",
        "TAXA_ATENDIMENTO = 3\n",
        "LIMITE = 300"
      ],
      "metadata": {
        "id": "SIU-zgMB__fn"
      },
      "execution_count": 10,
      "outputs": []
    },
    {
      "cell_type": "code",
      "source": [
        "def chegada(env):\n",
        "  global n\n",
        "  while True:\n",
        "    yield env.timeout(np.random.exponential(TAXA_CHEGADA))\n",
        "    n = n + 1\n",
        "    print(\"Alguem chegou \\t (n = \", n, \" em t = \", str(env.now), \")\")\n",
        "    if (n == 1):\n",
        "      env.process(atendimento(env))"
      ],
      "metadata": {
        "id": "0JWYN2-gAYkh"
      },
      "execution_count": null,
      "outputs": []
    },
    {
      "cell_type": "code",
      "source": [
        "def atendimento(env):\n",
        "  global n\n",
        "  while (n > 0):\n",
        "    yield env.timeout(np.random.exponential(TAXA_ATENDIMENTO))\n",
        "    n = n - 1\n",
        "    print(\"Alguem saiu   \\t (n = \", n, \" em t = \", str(env.now), \")\")"
      ],
      "metadata": {
        "id": "O0WHXivWDtfa"
      },
      "execution_count": null,
      "outputs": []
    },
    {
      "cell_type": "code",
      "source": [
        "env = sp.Environment()\n",
        "env.process(chegada(env))\n",
        "if (n > 0):\n",
        "  env.process(atendimento(env))\n",
        "env.run(until=LIMITE)\n",
        "print(\"Fim da simulação\")"
      ],
      "metadata": {
        "id": "uGyRCLL_D3NY"
      },
      "execution_count": null,
      "outputs": []
    }
  ]
}