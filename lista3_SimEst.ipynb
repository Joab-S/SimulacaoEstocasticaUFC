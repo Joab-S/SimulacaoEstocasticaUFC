{
  "nbformat": 4,
  "nbformat_minor": 0,
  "metadata": {
    "colab": {
      "provenance": [],
      "authorship_tag": "ABX9TyMUUzLW/7bG01uz4ZPxyGP0",
      "include_colab_link": true
    },
    "kernelspec": {
      "name": "python3",
      "display_name": "Python 3"
    },
    "language_info": {
      "name": "python"
    }
  },
  "cells": [
    {
      "cell_type": "markdown",
      "metadata": {
        "id": "view-in-github",
        "colab_type": "text"
      },
      "source": [
        "<a href=\"https://colab.research.google.com/github/Joab-S/SimulacaoEstocasticaUFC/blob/main/lista3_SimEst.ipynb\" target=\"_parent\"><img src=\"https://colab.research.google.com/assets/colab-badge.svg\" alt=\"Open In Colab\"/></a>"
      ]
    },
    {
      "cell_type": "code",
      "source": [
        "%pip install simpy"
      ],
      "metadata": {
        "id": "MejFHDIRAKwa"
      },
      "execution_count": null,
      "outputs": []
    },
    {
      "cell_type": "code",
      "execution_count": 3,
      "metadata": {
        "id": "tGiSlkkP_aof"
      },
      "outputs": [],
      "source": [
        "import random as r\n",
        "import simpy as sp\n",
        "import numpy as np\n",
        "import matplotlib.pyplot as mp"
      ]
    },
    {
      "cell_type": "code",
      "source": [
        "class client():\n",
        "  id: int\n",
        "  priority: bool\n",
        "  tempo_espera: int\n",
        "  chegada: int\n",
        "  saida: int\n",
        "\n",
        "  def __init__(id: int, p: bool, chegada):\n",
        "    id = id\n",
        "    priority = p\n",
        "    tempo_espera = np.Infinity\n",
        "    chegada = chegada\n",
        "    saida = 0"
      ],
      "metadata": {
        "id": "9zIbPOLE4ckw"
      },
      "execution_count": null,
      "outputs": []
    },
    {
      "cell_type": "code",
      "source": [
        "from numpy.lib.index_tricks import fill_diagonal\n",
        "class NodoFila:\n",
        "    \"\"\"Esta classe representa um nodo de uma lista encadeada.\"\"\"\n",
        "    def __init__(self, dado=0, proximo_nodo=None):\n",
        "        self.dado = dado\n",
        "        self.proximo = proximo_nodo\n",
        "\n",
        "    def __repr__(self):\n",
        "        return '%s -> %s' % (self.dado, self.proximo)\n",
        "\n",
        "\n",
        "class Fila:\n",
        "    \"\"\"Esta classe representa uma lista encadeada.\"\"\"\n",
        "    def __init__(self):\n",
        "        self.cabeca = None\n",
        "        self.prioridade = None\n",
        "\n",
        "    def __repr__(self):\n",
        "        return \"[\" + str(self.cabeca) + \"]\"\n",
        "      \n",
        "    def insere_no_inicio(fila, novo_dado):\n",
        "      novo_nodo = NodoFila(novo_dado)\n",
        "\n",
        "      novo_nodo.proximo = fill_diagonal.cabeca\n",
        "\n",
        "      fila.cabeca = novo_nodo\n",
        "    \n",
        "    def insere_depois(fila, nodo_anterior, novo_dado):\n",
        "      assert nodo_anterior, \"Nodo anterior precisa existir na fila.\"\n",
        "      \n",
        "      novo_nodo = NodoFila(novo_dado)\n",
        "\n",
        "      novo_nodo.proximo = nodo_anterior.proximo\n",
        "\n",
        "      nodo_anterior.proximo = novo_nodo\n",
        "\n",
        "    def busca(fila, valor):\n",
        "      corrente = fila.cabeca\n",
        "      while corrente and corrente.dado != valor:\n",
        "        corrente = corrente.proximo\n",
        "      return corrente\n"
      ],
      "metadata": {
        "id": "bTEWU5BG0Tx6"
      },
      "execution_count": null,
      "outputs": []
    },
    {
      "cell_type": "code",
      "source": [
        "N_CLIENTES = 0\n",
        "TAXA_CHEGADA = 2\n",
        "TAXA_ATENDIMENTO = 3\n",
        "N_ATENDENTES = 1\n",
        "LIMITE = 300\n",
        "TEMPO = []\n",
        "PESSOA_TEMPO = []"
      ],
      "metadata": {
        "id": "SIU-zgMB__fn"
      },
      "execution_count": null,
      "outputs": []
    },
    {
      "cell_type": "code",
      "source": [
        "def chegada(env):\n",
        "  global N_CLIENTES\n",
        "  global PESSOA_TEMPO\n",
        "  global TEMPO\n",
        "  \n",
        "  while True:\n",
        "    yield env.timeout(np.random.exponential(TAXA_CHEGADA))\n",
        "    N_CLIENTES = N_CLIENTES + 1\n",
        "    PESSOA_TEMPO.append(N_CLIENTES)\n",
        "    TEMPO.append(env.now)\n",
        "    #print(\"Alguem chegou \\t (N_CLIENTES = \", N_CLIENTES, \" em t = \", str(env.now), \")\")\n",
        "    if (N_CLIENTES == 1):\n",
        "      env.process(atendimento(env))"
      ],
      "metadata": {
        "id": "0JWYN2-gAYkh"
      },
      "execution_count": null,
      "outputs": []
    },
    {
      "cell_type": "code",
      "source": [
        "def atendimento(env):\n",
        "  global N_CLIENTES\n",
        "  global PESSOA_TEMPO\n",
        "  global TEMPO\n",
        "  \n",
        "  while (N_CLIENTES > 0):\n",
        "    yield env.timeout(np.random.exponential(TAXA_ATENDIMENTO))\n",
        "    N_CLIENTES = N_CLIENTES - 1\n",
        "    PESSOA_TEMPO.append(N_CLIENTES)\n",
        "    TEMPO.append(env.now)\n",
        "    #print(\"Alguem saiu   \\t (N_CLIENTES = \", N_CLIENTES, \" em t = \", str(env.now), \")\")"
      ],
      "metadata": {
        "id": "O0WHXivWDtfa"
      },
      "execution_count": null,
      "outputs": []
    },
    {
      "cell_type": "markdown",
      "source": [
        "1. Primeira questão"
      ],
      "metadata": {
        "id": "t_304Sm84XTJ"
      }
    },
    {
      "cell_type": "code",
      "source": [
        "# a) Evolução do tempo médio e tamanho da fila ao longo do tempo.\n",
        "\n",
        "def tamFila():\n",
        "  global N_CLIENTES\n",
        "  global PESSOA_TEMPO\n",
        "  global TEMPO\n",
        "\n",
        "  N_CLIENTES = 0\n",
        "  TEMPO = []\n",
        "  PESSOA_TEMPO = []\n",
        "\n",
        "  env = sp.Environment()\n",
        "  env.process(chegada(env))\n",
        "  if (N_CLIENTES > 0):\n",
        "    env.process(atendimento(env))\n",
        "  env.run(until=LIMITE)\n",
        "  \n",
        "  return N_CLIENTES\n",
        "\n",
        "print(tamFila())\n",
        "\n",
        "f = []\n",
        "for i in range(1000):\n",
        "  f.append(tamFila())\n",
        "\n",
        "#mp.plot(TEMPO, PESSOA_TEMPO)\n",
        "mp.plot(f)"
      ],
      "metadata": {
        "colab": {
          "base_uri": "https://localhost:8080/",
          "height": 300
        },
        "id": "nDwPwdVs4dTd",
        "outputId": "b351b32b-884d-45d8-d0ef-8b12bebdb9b4"
      },
      "execution_count": null,
      "outputs": [
        {
          "output_type": "stream",
          "name": "stdout",
          "text": [
            "79\n"
          ]
        },
        {
          "output_type": "execute_result",
          "data": {
            "text/plain": [
              "[<matplotlib.lines.Line2D at 0x7ff7e572b350>]"
            ]
          },
          "metadata": {},
          "execution_count": 8
        },
        {
          "output_type": "display_data",
          "data": {
            "text/plain": [
              "<Figure size 432x288 with 1 Axes>"
            ],
            "image/png": "[encoded data removed]"
          },
          "metadata": {
            "needs_background": "light"
          }
        }
      ]
    },
    {
      "cell_type": "markdown",
      "source": [
        "2. Segunda Questão: Fila M/M/C"
      ],
      "metadata": {
        "id": "tCTF0VsC4XIn"
      }
    },
    {
      "cell_type": "code",
      "source": [
        "def tamFila():\n",
        "  global N_CLIENTES\n",
        "  global PESSOA_TEMPO\n",
        "  global TEMPO\n",
        "  global N_ATENDENTES\n",
        "\n",
        "  N_CLIENTES = 0\n",
        "  TEMPO = []\n",
        "  PESSOA_TEMPO = []\n",
        "  N_ATENDENTES = 4\n",
        "\n",
        "  env = sp.Environment()\n",
        "  env.process(chegada(env))\n",
        "  if (N_CLIENTES > 0):\n",
        "    for i in range(N_ATENDENTES):\n",
        "      env.process(atendimento(env))\n",
        "  env.run(until=LIMITE)\n",
        "  \n",
        "  return N_CLIENTES\n",
        "\n",
        "print(tamFila())\n",
        "\n",
        "mp.plot(TEMPO, PESSOA_TEMPO)"
      ],
      "metadata": {
        "id": "qtnnTw_x4dCu",
        "colab": {
          "base_uri": "https://localhost:8080/",
          "height": 300
        },
        "outputId": "8dc8b06c-885c-47cb-f632-4af9842ce344"
      },
      "execution_count": null,
      "outputs": [
        {
          "output_type": "stream",
          "name": "stdout",
          "text": [
            "51\n"
          ]
        },
        {
          "output_type": "execute_result",
          "data": {
            "text/plain": [
              "[<matplotlib.lines.Line2D at 0x7ff7e444a490>]"
            ]
          },
          "metadata": {},
          "execution_count": 26
        },
        {
          "output_type": "display_data",
          "data": {
            "text/plain": [
              "<Figure size 432x288 with 1 Axes>"
            ],
            "image/png": "[encoded data removed]"
          },
          "metadata": {
            "needs_background": "light"
          }
        }
      ]
    },
    {
      "cell_type": "markdown",
      "source": [
        "3. Terceira Questão"
      ],
      "metadata": {
        "id": "LO4sRawr4W2e"
      }
    },
    {
      "cell_type": "code",
      "source": [
        "N_CLIENTES = 0\n",
        "N_CLIENTES_P = 0 # NUMERO DE CLIENTES COM PRIORIDADE\n",
        "TAXA_CHEGADA = 2\n",
        "TAXA_CHEGADA_P = 5\n",
        "TAXA_ATENDIMENTO = 3\n",
        "N_ATENDENTES = 1\n",
        "LIMITE = 300\n",
        "\n",
        "def chegada(env):\n",
        "  global N_CLIENTES\n",
        "  global N_CLIENTES_P\n",
        "  \n",
        "  while True:\n",
        "    yield env.timeout(np.random.exponential(TAXA_CHEGADA))\n",
        "    N_CLIENTES = N_CLIENTES + 1\n",
        "    print(\"Alguém chegou \\t (N_CLIENTES_P = \", N_CLIENTES_P, \"N_CLIENTES = \", N_CLIENTES, \"em t = \", str(env.now), \")\")\n",
        "    if (N_CLIENTES_P == 0 and N_CLIENTES == 1):\n",
        "      env.process(atendimento(env))\n",
        "\n",
        "def chegadaP(env):\n",
        "  global N_CLIENTES_P\n",
        "  \n",
        "  while True:\n",
        "    yield env.timeout(np.random.exponential(TAXA_CHEGADA_P))\n",
        "    N_CLIENTES_P = N_CLIENTES_P + 1\n",
        "    print(\"Alguém com prioridade chegou \\t (N_CLIENTES_P = \", N_CLIENTES_P, \"N_CLIENTES = \", N_CLIENTES, \"em t = \", str(env.now), \")\")\n",
        "    if (N_CLIENTES_P == 1):\n",
        "      env.process(atendimentoP(env))\n",
        "\n",
        "def atendimento(env):\n",
        "  global N_CLIENTES\n",
        "  \n",
        "  while (N_CLIENTES > 0):\n",
        "    yield env.timeout(np.random.exponential(TAXA_ATENDIMENTO))\n",
        "    N_CLIENTES = N_CLIENTES - 1\n",
        "    print(\"Alguem saiu   \\t (N_CLIENTES_P = \", N_CLIENTES_P, \"N_CLIENTES = \", N_CLIENTES, \" em t = \", str(env.now), \")\")\n",
        "\n",
        "def atendimentoP(env):\n",
        "  global N_CLIENTES_P\n",
        "  \n",
        "  while (N_CLIENTES_P > 0):\n",
        "    yield env.timeout(np.random.exponential(TAXA_ATENDIMENTO))\n",
        "    N_CLIENTES_P = N_CLIENTES_P - 1\n",
        "    print(\"Alguem com prioridade saiu   \\t (N_CLIENTES_P = \", N_CLIENTES_P, \"N_CLIENTES = \", N_CLIENTES, \" em t = \", str(env.now), \")\")\n",
        "\n",
        "def systemSim():\n",
        "  global N_CLIENTES\n",
        "  global N_CLIENTES_P\n",
        "\n",
        "  N_CLIENTES = 0\n",
        "  N_CLIENTES_P = 0\n",
        "\n",
        "  env = sp.Environment()\n",
        "  env.process(chegada(env))\n",
        "  env.process(chegadaP(env))\n",
        "  if (N_CLIENTES_P > 0):\n",
        "    env.process(atendimentoP(env))\n",
        "  elif (N_CLIENTES > 0):\n",
        "    env.process(atendimento(env))\n",
        "  env.run(until=LIMITE)\n",
        "  \n",
        "  return (N_CLIENTES + N_CLIENTES_P)\n",
        "\n",
        "print(systemSim())\n",
        "\n",
        "\n",
        "#mp.plot(TEMPO, PESSOA_TEMPO)"
      ],
      "metadata": {
        "id": "Y1He531d--10"
      },
      "execution_count": null,
      "outputs": []
    }
  ]
}