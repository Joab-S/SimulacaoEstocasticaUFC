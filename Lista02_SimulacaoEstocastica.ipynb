{
  "nbformat": 4,
  "nbformat_minor": 0,
  "metadata": {
    "colab": {
      "provenance": [],
      "collapsed_sections": [],
      "authorship_tag": "ABX9TyNV0By6CmnuzAahkhbov0rh",
      "include_colab_link": true
    },
    "kernelspec": {
      "name": "python3",
      "display_name": "Python 3"
    },
    "language_info": {
      "name": "python"
    }
  },
  "cells": [
    {
      "cell_type": "markdown",
      "metadata": {
        "id": "view-in-github",
        "colab_type": "text"
      },
      "source": [
        "<a href=\"https://colab.research.google.com/github/Joab-S/SimulacaoEstocasticaUFC/blob/main/Lista02_SimulacaoEstocastica.ipynb\" target=\"_parent\"><img src=\"https://colab.research.google.com/assets/colab-badge.svg\" alt=\"Open In Colab\"/></a>"
      ]
    },
    {
      "cell_type": "markdown",
      "source": [
        "1. Elabore um gerador para variáveis binomiais com parâmetros n e p que utilize a geração de variáveis geométricas com parâmetro p, utilizando-se do fato que ambas estão relacionadas à sequências de Bernouli. Elabore experimentos variando os valores de n e p, medindo quantos valores aleatórios são necessários para a geração de uma variável binomial.\n",
        "\n",
        "\n",
        "  Referência: https://youtu.be/Z5JySk2TKkw"
      ],
      "metadata": {
        "id": "18RiuV76vHh1"
      }
    },
    {
      "cell_type": "code",
      "execution_count": null,
      "metadata": {
        "id": "T_2oyty4kTDq",
        "colab": {
          "base_uri": "https://localhost:8080/"
        },
        "outputId": "a67e305d-eb89-4fd1-e4cf-f57005c8ca0a"
      },
      "outputs": [
        {
          "output_type": "stream",
          "name": "stdout",
          "text": [
            "0\n"
          ]
        }
      ],
      "source": [
        "import math as ma\n",
        "from random import random\n",
        "\n",
        "def BinomialGenerator(n, p):\n",
        "  k, u = 0, random()\n",
        "  s = (1-p)**n\n",
        "  F = s\n",
        "\n",
        "  while (F < u):\n",
        "    s = ((n-k)/(k+1)) * (p/(1-p)) * s\n",
        "    F += s\n",
        "\n",
        "    k += 1\n",
        "  \n",
        "  return (k-1)\n",
        "\n",
        "print(BinomialGenerator(10, 0.5))"
      ]
    },
    {
      "cell_type": "markdown",
      "source": [
        "2. Uma seleção aleatória de m bolas deve ser feita de uma urna que contém n bolas, Ni, das quais tem a cor i de forma que Somatório de Ni, i = 1, ..., r, vale N. Como podemos simular de forma eficiente as variáveis aleatórias X1, ..., Xr onde Xi denota o número de bolas retiradas da cor i."
      ],
      "metadata": {
        "id": "1wXe7RmQvFjj"
      }
    },
    {
      "cell_type": "code",
      "source": [
        "class Ball():\n",
        "  def __init__(self, id: int, color: str):\n",
        "    self.id = id\n",
        "    self.color = color\n",
        "\n",
        "  def getColor(self):\n",
        "    return self.color\n",
        "\n",
        "\n",
        "n = 10\n",
        "m = int(n/2) - 1\n",
        "colors = ['vermelho', 'verde', 'azul', 'amarelo']\n",
        "balls, j = [], 0\n",
        "for i in range(n):\n",
        "  balls.append(Ball(i, colors[j]))\n",
        "  j += 1\n",
        "  if (j >= len(colors)):\n",
        "    j = 0\n",
        "\n",
        "urna = []"
      ],
      "metadata": {
        "id": "rGIgkIRxwRTO",
        "colab": {
          "base_uri": "https://localhost:8080/"
        },
        "outputId": "ed59b132-41ba-4695-cab0-8cc098a1a885"
      },
      "execution_count": 5,
      "outputs": [
        {
          "output_type": "stream",
          "name": "stdout",
          "text": [
            "0 :  vermelho\n",
            "1 :  verde\n",
            "2 :  azul\n",
            "3 :  amarelo\n",
            "4 :  vermelho\n",
            "5 :  verde\n",
            "6 :  azul\n",
            "7 :  amarelo\n",
            "8 :  vermelho\n",
            "9 :  verde\n"
          ]
        }
      ]
    }
  ]
}