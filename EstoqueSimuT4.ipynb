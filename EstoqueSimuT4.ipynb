{
  "nbformat": 4,
  "nbformat_minor": 0,
  "metadata": {
    "colab": {
      "provenance": [],
      "authorship_tag": "ABX9TyPm1sAdJ/oVcDpFousd1Xvx",
      "include_colab_link": true
    },
    "kernelspec": {
      "name": "python3",
      "display_name": "Python 3"
    },
    "language_info": {
      "name": "python"
    }
  },
  "cells": [
    {
      "cell_type": "markdown",
      "metadata": {
        "id": "view-in-github",
        "colab_type": "text"
      },
      "source": [
        "<a href=\"https://colab.research.google.com/github/Joab-S/SimulacaoEstocasticaUFC/blob/main/EstoqueSimuT4.ipynb\" target=\"_parent\"><img src=\"https://colab.research.google.com/assets/colab-badge.svg\" alt=\"Open In Colab\"/></a>"
      ]
    },
    {
      "cell_type": "code",
      "source": [
        "%pip install simpy"
      ],
      "metadata": {
        "colab": {
          "base_uri": "https://localhost:8080/"
        },
        "id": "PZYHQKh7-JvS",
        "outputId": "813ce657-267b-4b62-8e90-f4c4018f1a60"
      },
      "execution_count": 2,
      "outputs": [
        {
          "output_type": "stream",
          "name": "stdout",
          "text": [
            "Looking in indexes: https://pypi.org/simple, https://us-python.pkg.dev/colab-wheels/public/simple/\n",
            "Collecting simpy\n",
            "  Downloading simpy-4.0.1-py2.py3-none-any.whl (29 kB)\n",
            "Installing collected packages: simpy\n",
            "Successfully installed simpy-4.0.1\n"
          ]
        }
      ]
    },
    {
      "cell_type": "code",
      "execution_count": 3,
      "metadata": {
        "id": "LalSCoC_CsUs"
      },
      "outputs": [],
      "source": [
        "import random as r\n",
        "import simpy as sp\n",
        "import numpy as np\n",
        "import matplotlib.pyplot as mp"
      ]
    },
    {
      "cell_type": "code",
      "source": [
        "TAXA_DEMANDA = 4\n",
        "MEDIA_DEMANDA = 10\n",
        "VARIANCIA_DEMANDA = 4\n",
        "TAXA_REPOSICAO = 1/30\n",
        "CORTE_s = 200\n",
        "CAPACIDADE_S = 1000\n",
        "N_CLIENTES = 0\n",
        "NAO_ATENDIDOS = 0\n",
        "estoque_atual = CAPACIDADE_S\n",
        "LIMITE = 1825 # Dias em 5 anos\n",
        "custo = 0\n",
        "LISTA_ESTOQUE = []\n",
        "CLIENTES_ATENDIDOS = []\n",
        "CLIENTES_REJEITADOS = []"
      ],
      "metadata": {
        "id": "lIwxxZtL-cut"
      },
      "execution_count": 79,
      "outputs": []
    },
    {
      "cell_type": "code",
      "source": [
        "def custoEntrega(quantity):\n",
        "  preco_base = np.random.normal(20, 10)\n",
        "\n",
        "  return (preco_base * quantity)"
      ],
      "metadata": {
        "id": "7-xdQmn8Y1pc"
      },
      "execution_count": 5,
      "outputs": []
    },
    {
      "cell_type": "code",
      "source": [
        "def venda(env):\n",
        "  global CORTE_s, estoque_atual, custo\n",
        "  global MEDIA_DEMANDA, VARIANCIA_DEMANDA\n",
        "  global N_CLIENTES, TAXA_DEMANDA, NAO_ATENDIDOS\n",
        "  global CAPACIDADE_S\n",
        "  \n",
        "  #valor_produto = np.random.normal(25, 10)\n",
        "\n",
        "  while True:\n",
        "    yield env.timeout(np.random.exponential(TAXA_DEMANDA))\n",
        "    N_CLIENTES += 1\n",
        "    n_pedido = 0\n",
        "    while (n_pedido == 0):\n",
        "      n_pedido = int(np.random.normal(MEDIA_DEMANDA, VARIANCIA_DEMANDA**2))\n",
        "      if (n_pedido < 0):\n",
        "        n_pedido *= -1\n",
        "    \n",
        "    q = min(estoque_atual, n_pedido)\n",
        "    if (q <= 0):\n",
        "      NAO_ATENDIDOS += 1\n",
        "      CLIENTES_REJEITADOS.append(NAO_ATENDIDOS)\n",
        "      CLIENTES_ATENDIDOS.append(N_CLIENTES - NAO_ATENDIDOS)\n",
        "      #print(\"Vendas não atendidas:\", NAO_ATENDIDOS, \"- Clientes:\", N_CLIENTES, \"- Estoque:\", estoque_atual)\n",
        "\n",
        "    elif (estoque_atual > 0):\n",
        "      estoque_atual -= q\n",
        "      LISTA_ESTOQUE.append(estoque_atual)\n",
        "      #custo -= q * valor_produto\n",
        "      if (estoque_atual + q > CORTE_s and estoque_atual < CORTE_s):\n",
        "        env.process(reposicao(env, CAPACIDADE_S - estoque_atual))\n",
        "    \n",
        "      #print(\"Vendas atendidas:\", (N_CLIENTES - NAO_ATENDIDOS), \"- Clientes:\", N_CLIENTES, \"- Estoque:\", estoque_atual)\n",
        "      CLIENTES_ATENDIDOS.append(N_CLIENTES - NAO_ATENDIDOS)\n",
        "      CLIENTES_REJEITADOS.append(NAO_ATENDIDOS)\n",
        "    #custo += (n_pedido-q) * valor_produto\n",
        "    #yield env.timeout(np.random.exponential(TAXA_DEMANDA))"
      ],
      "metadata": {
        "id": "x2PjqwB8BcVu"
      },
      "execution_count": 130,
      "outputs": []
    },
    {
      "cell_type": "code",
      "source": [
        "def reposicao(env, y):\n",
        "  global TAXA_REPOSICAO\n",
        "  global estoque_atual, custo\n",
        "\n",
        "  #print(\"Solicitação de Reposição, Estoque atual:\", estoque_atual)\n",
        "  yield env.timeout(np.random.exponential(1/TAXA_REPOSICAO))\n",
        "\n",
        "  estoque_atual += y\n",
        "  LISTA_ESTOQUE.append(estoque_atual)\n",
        "  #print(\"Uma reposição foi feita. Estoque Antes =\", estoque_atual - y, \"- Estoque Atual =\", estoque_atual)\n",
        "  #custo += custoEntrega(y)"
      ],
      "metadata": {
        "id": "51LOz2cfLHod"
      },
      "execution_count": 131,
      "outputs": []
    },
    {
      "cell_type": "code",
      "source": [
        "def initVar():\n",
        "  global TAXA_DEMANDA, MEDIA_DEMANDA, VARIANCIA_DEMANDA, TAXA_REPOSICAO\n",
        "  global CAPACIDADE_S, NAO_ATENDIDOS, estoque_atual, LIMITE, custo,  CORTE_s, N_CLIENTES\n",
        "  global LISTA_ESTOQUE, CLIENTES_ATENDIDOS, CLIENTES_REJEITADOS\n",
        "\n",
        "  TAXA_DEMANDA = 4\n",
        "  MEDIA_DEMANDA = 10\n",
        "  VARIANCIA_DEMANDA = 4\n",
        "  TAXA_REPOSICAO = 1/30\n",
        "  CORTE_s = 400\n",
        "  CAPACIDADE_S = 1000\n",
        "  N_CLIENTES = 0\n",
        "  NAO_ATENDIDOS = 0\n",
        "  estoque_atual = CAPACIDADE_S\n",
        "  LIMITE = 1825 # Dias em 5 anos\n",
        "  custo = 0\n",
        "  LISTA_ESTOQUE = []\n",
        "  CLIENTES_ATENDIDOS = []\n",
        "  CLIENTES_REJEITADOS = []"
      ],
      "metadata": {
        "id": "GzFDa1HtLuwW"
      },
      "execution_count": 132,
      "outputs": []
    },
    {
      "cell_type": "code",
      "source": [
        "def systemSim():\n",
        "  global TAXA_DEMANDA, MEDIA_DEMANDA, VARIANCIA_DEMANDA, TAXA_REPOSICAO\n",
        "  global CAPACIDADE_S, NAO_ATENDIDOS, estoque_atual, LIMITE, custo,  CORTE_s, N_CLIENTES\n",
        "  global LISTA_ESTOQUE, CLIENTES_ATENDIDOS, CLIENTES_REJEITADOS\n",
        "\n",
        "  initVar()\n",
        "\n",
        "  env = sp.Environment()\n",
        "  env.process(venda(env))\n",
        "  env.run(until=LIMITE)\n",
        "\n",
        "\n",
        "systemSim()\n",
        "\n",
        "mp.plot(LISTA_ESTOQUE, label=\"Estoque ao longo do tempo\")\n",
        "mp.plot(CLIENTES_ATENDIDOS, label=\"Clientes atendidos ao longo do tempo\")\n",
        "mp.plot(CLIENTES_REJEITADOS, label=\"Clientes rejeitados ao longo do tempo\")\n",
        "\n",
        "#print(N_CLIENTES)"
      ],
      "metadata": {
        "id": "_7kAHRnnTQfV",
        "colab": {
          "base_uri": "https://localhost:8080/",
          "height": 282
        },
        "outputId": "da89fef7-4ce6-4785-c11d-6bafe4055fe0"
      },
      "execution_count": 141,
      "outputs": [
        {
          "output_type": "execute_result",
          "data": {
            "text/plain": [
              "[<matplotlib.lines.Line2D at 0x7f7178140940>]"
            ]
          },
          "metadata": {},
          "execution_count": 141
        },
        {
          "output_type": "display_data",
          "data": {
            "text/plain": [
              "<Figure size 432x288 with 1 Axes>"
            ],
            "image/png": "[encoded data removed]"
          },
          "metadata": {
            "needs_background": "light"
          }
        }
      ]
    }
  ]
}